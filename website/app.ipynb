{
 "cells": [
  {
   "cell_type": "code",
   "execution_count": 2,
   "id": "87127fb3-1172-4aaf-8535-3186b5fe7c82",
   "metadata": {},
   "outputs": [],
   "source": [
    "from flask import Flask, render_template, request\n",
    "import joblib\n",
    "import numpy as np"
   ]
  },
  {
   "cell_type": "code",
   "execution_count": null,
   "id": "9e0287e7-6474-4ee3-8821-39bd2dccc28f",
   "metadata": {},
   "outputs": [],
   "source": [
    "app = Flask(__name__)\n",
    "\n",
    "# 학습된 머신러닝 모델 불러오기\n",
    "model = joblib.load('model.joblib')  # 모델 파일 경로\n",
    "\n",
    "# 홈 페이지 라우트\n",
    "@app.route('/')\n",
    "def index():\n",
    "    return render_template('index.html')\n",
    "\n",
    "# 예측을 처리하는 라우트\n",
    "@app.route('/predict', methods=['POST'])\n",
    "def predict():\n",
    "    # 사용자가 입력한 데이터 가져오기\n",
    "    title = request.form['title']\n",
    "    thumbnail_url = request.form['thumbnail_url']\n",
    "    subscribers = int(request.form['subscribers'])\n",
    "    \n",
    "    # 특징 벡터 생성 (예시로 텍스트 길이, 썸네일 URL 길이, 구독자 수 사용)\n",
    "    title_length = len(title)\n",
    "    thumbnail_url_length = len(thumbnail_url)\n",
    "    \n",
    "    # 입력 데이터를 모델에 맞게 배열로 변환\n",
    "    input_features = np.array([[title_length, thumbnail_url_length, subscribers]])\n",
    "\n",
    "    # 예측: 조회수 예측\n",
    "    predicted_views = model.predict(input_features)[0]\n",
    "    \n",
    "    # 결과를 출력\n",
    "    return render_template('index.html', \n",
    "                           title=title, \n",
    "                           predicted_views=predicted_views,\n",
    "                           subscribers=subscribers,\n",
    "                           thumbnail_url=thumbnail_url)\n",
    "\n",
    "if __name__ == \"__main__\":\n",
    "    app.run(debug=True)\n"
   ]
  }
 ],
 "metadata": {
  "kernelspec": {
   "display_name": "Python 3 (ipykernel)",
   "language": "python",
   "name": "python3"
  },
  "language_info": {
   "codemirror_mode": {
    "name": "ipython",
    "version": 3
   },
   "file_extension": ".py",
   "mimetype": "text/x-python",
   "name": "python",
   "nbconvert_exporter": "python",
   "pygments_lexer": "ipython3",
   "version": "3.11.7"
  }
 },
 "nbformat": 4,
 "nbformat_minor": 5
}
